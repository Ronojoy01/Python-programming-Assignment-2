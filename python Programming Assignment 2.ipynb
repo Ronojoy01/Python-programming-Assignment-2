{
 "cells": [
  {
   "cell_type": "markdown",
   "id": "f06b0c7b",
   "metadata": {},
   "source": [
    "1.\tWrite a Python program to convert kilometers to miles?"
   ]
  },
  {
   "cell_type": "code",
   "execution_count": 6,
   "id": "50e710f6",
   "metadata": {},
   "outputs": [
    {
     "name": "stdout",
     "output_type": "stream",
     "text": [
      "Please enter the speed of car in Kilometre as a unit: 65\n",
      "The speed value of car in Miles:  40.389115000000004\n"
     ]
    }
   ],
   "source": [
    "    kilometre_1 = float (input (\"Please enter the speed of car in Kilometre as a unit: \"))  \n",
    "    conversion_ratio_1 = 0.621371  \n",
    "    miles_1 = kilometre_1 * conversion_ratio_1  \n",
    "    print (\"The speed value of car in Miles: \", miles_1)  "
   ]
  },
  {
   "cell_type": "markdown",
   "id": "7d253c95",
   "metadata": {},
   "source": [
    "2.\tWrite a Python program to convert Celsius to Fahrenheit?"
   ]
  },
  {
   "cell_type": "code",
   "execution_count": 7,
   "id": "82025018",
   "metadata": {},
   "outputs": [
    {
     "name": "stdout",
     "output_type": "stream",
     "text": [
      "Enter temperature in celsius: 45\n",
      "45.00 Celsius is: 113.00 Fahrenheit\n"
     ]
    }
   ],
   "source": [
    "celsius = float(input(\"Enter temperature in celsius: \"))\n",
    "fahrenheit = (celsius * 9/5) + 32\n",
    "print('%.2f Celsius is: %0.2f Fahrenheit' %(celsius, fahrenheit))"
   ]
  },
  {
   "cell_type": "markdown",
   "id": "83ae0bcd",
   "metadata": {},
   "source": [
    "3.\tWrite a Python program to display calendar?"
   ]
  },
  {
   "cell_type": "code",
   "execution_count": 8,
   "id": "d15df469",
   "metadata": {},
   "outputs": [
    {
     "name": "stdout",
     "output_type": "stream",
     "text": [
      "Enter year: 2022\n",
      "Enter month: 09\n",
      "   September 2022\n",
      "Mo Tu We Th Fr Sa Su\n",
      "          1  2  3  4\n",
      " 5  6  7  8  9 10 11\n",
      "12 13 14 15 16 17 18\n",
      "19 20 21 22 23 24 25\n",
      "26 27 28 29 30\n",
      "\n"
     ]
    }
   ],
   "source": [
    "    import calendar  \n",
    "    # Enter the month and year  \n",
    "    yy = int(input(\"Enter year: \"))  \n",
    "    mm = int(input(\"Enter month: \"))  \n",
    "      \n",
    "    # display the calendar  \n",
    "    print(calendar.month(yy,mm))  "
   ]
  },
  {
   "cell_type": "markdown",
   "id": "84307130",
   "metadata": {},
   "source": [
    "4.\tWrite a Python program to solve quadratic equation?"
   ]
  },
  {
   "cell_type": "code",
   "execution_count": 20,
   "id": "0c8f7601",
   "metadata": {},
   "outputs": [
    {
     "name": "stdout",
     "output_type": "stream",
     "text": [
      "Enter your first coefficient: P = 10\n",
      "Enter your second coefficient: Q = 20\n",
      "Enter your third coefficient: R = 30\n",
      "Your quadratic equation is 10.0x**2 + 20.0x + 30.0\n",
      "The solution are (-1-1.4142135623730951j), (-1+1.4142135623730951j)\n"
     ]
    }
   ],
   "source": [
    "# import complex math module \n",
    "import cmath \n",
    " \n",
    "P = float(input(\"Enter your first coefficient: P = \")) \n",
    "Q = float(input(\"Enter your second coefficient: Q = \")) \n",
    "R = float(input(\"Enter your third coefficient: R = \")) \n",
    "print(f\"Your quadratic equation is {P}x**2 + {Q}x + {R}\") \n",
    "#D = discriminant \n",
    "D = (Q**2) - (4*P*R) \n",
    " \n",
    "# two solutions \n",
    "solution1 = (-Q-cmath.sqrt(D))/(2*P) \n",
    "solution2 = (-Q+cmath.sqrt(D))/(2*P) \n",
    " \n",
    "print(f'The solution are {solution1}, {solution2}')"
   ]
  },
  {
   "cell_type": "markdown",
   "id": "20647208",
   "metadata": {},
   "source": [
    "5.\tWrite a Python program to swap two variables without temp variable?"
   ]
  },
  {
   "cell_type": "code",
   "execution_count": 24,
   "id": "4878595e",
   "metadata": {},
   "outputs": [
    {
     "name": "stdout",
     "output_type": "stream",
     "text": [
      "Enter number10\n",
      "Enter number20\n",
      "After Swapping: x = 20  y = 10\n"
     ]
    }
   ],
   "source": [
    "x = int(input(\"Enter number\"))\n",
    "y = int(input(\"Enter number\"))\n",
    "\n",
    "# Code to swap 'x' and 'y'\n",
    "\n",
    "\n",
    "x = x + y\n",
    "\n",
    "y = x - y\n",
    "\n",
    "x = x - y\n",
    "print(\"After Swapping: x =\", x, \" y =\", y)\n",
    "\n",
    "\n"
   ]
  },
  {
   "cell_type": "code",
   "execution_count": null,
   "id": "6edb0974",
   "metadata": {},
   "outputs": [],
   "source": []
  }
 ],
 "metadata": {
  "kernelspec": {
   "display_name": "Python 3 (ipykernel)",
   "language": "python",
   "name": "python3"
  },
  "language_info": {
   "codemirror_mode": {
    "name": "ipython",
    "version": 3
   },
   "file_extension": ".py",
   "mimetype": "text/x-python",
   "name": "python",
   "nbconvert_exporter": "python",
   "pygments_lexer": "ipython3",
   "version": "3.9.7"
  }
 },
 "nbformat": 4,
 "nbformat_minor": 5
}
